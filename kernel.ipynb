{
 "cells": [
  {
   "cell_type": "code",
   "execution_count": 1,
   "metadata": {
    "_cell_guid": "b1076dfc-b9ad-4769-8c92-a6c4dae69d19",
    "_uuid": "8f2839f25d086af736a60e9eeb907d3b93b6e0e5"
   },
   "outputs": [
    {
     "name": "stdout",
     "output_type": "stream",
     "text": [
      "['vgg16_weights_tf_dim_ordering_tf_kernels_notop.h5', 'vgg16_weights_tf_dim_ordering_tf_kernels.h5', 'imagenet_class_index.json']\n",
      "['resnet50_weights_tf_dim_ordering_tf_kernels_notop.h5', 'resnet50_weights_tf_dim_ordering_tf_kernels.h5', 'imagenet_class_index.json']\n"
     ]
    }
   ],
   "source": [
    "# This Python 3 environment comes with many helpful analytics libraries installed\n",
    "# It is defined by the kaggle/python docker image: https://github.com/kaggle/docker-python\n",
    "# For example, here's several helpful packages to load in \n",
    "\n",
    "import numpy as np # linear algebra\n",
    "import pandas as pd # data processing, CSV file I/O (e.g. pd.read_csv)\n",
    "\n",
    "# Input data files are available in the \"../input/\" directory.\n",
    "# For example, running this (by clicking run or pressing Shift+Enter) will list the files in the input directory\n",
    "\n",
    "import os\n",
    "print(os.listdir(\"../input/vgg16\"))\n",
    "print(os.listdir(\"../input/resnet50\"))\n",
    "\n",
    "# Any results you write to the current directory are saved as output."
   ]
  },
  {
   "cell_type": "markdown",
   "metadata": {},
   "source": [
    "**1. Preprocess images**"
   ]
  },
  {
   "cell_type": "code",
   "execution_count": 2,
   "metadata": {
    "_cell_guid": "79c7e3d0-c299-4dcb-8224-4455121ee9b0",
    "_uuid": "d629ff2d2480ee46fbb7e2d37f6b5fab8052498a"
   },
   "outputs": [],
   "source": [
    "import random\n",
    "import cv2\n",
    "import math\n",
    "import matplotlib.pyplot as plt\n",
    "\n",
    "# Preprocessing functions\n",
    "\"\"\"\n",
    "remove the black borders of an img\n",
    "\"\"\"\n",
    "def cut_black(img, tol=5):\n",
    "    img_gray = cv2.cvtColor(img, cv2.COLOR_BGR2GRAY)\n",
    "    mask = img_gray > tol\n",
    "    idx = np.ix_(mask.any(1),mask.any(0))\n",
    "    return img[idx[0], idx[1], :]\n",
    "\n",
    "\n",
    "\"\"\"\n",
    "Only take the center\n",
    "\"\"\"\n",
    "def crop_center(img):\n",
    "    H, W = img.shape[0], img.shape[1]\n",
    "    if H == W:\n",
    "        return img\n",
    "    elif H > W:\n",
    "        return img[H//2-W//2:H//2+W//2, :, :]\n",
    "    else:\n",
    "        return img[:, W//2-H//2:W//2+H//2, :]\n",
    "        \n",
    "        \n",
    "\"\"\"\n",
    "Adjust brightness, scale to mean 100\n",
    "\"\"\"\n",
    "def adjust_light(img):\n",
    "    brightness = np.mean(img)\n",
    "    return np.clip(100.0/brightness*img, 0, 255).astype(int)\n",
    "\n",
    "\n",
    "\"\"\"\n",
    "Crop image based off black pixels on diagon\n",
    "\"\"\"\n",
    "def crop_diagonal(img, tol=5):\n",
    "    img_diag = np.diagonal(img)\n",
    "    img_diag_gray = np.mean(img_diag, axis=0).astype('int32')\n",
    "    idx0 = np.argmax(img_diag_gray>tol)\n",
    "    idx1 = len(img_diag_gray) - np.argmax(img_diag_gray[::-1]>tol)\n",
    "    return img[idx0:idx1, idx0:idx1, :]"
   ]
  },
  {
   "cell_type": "code",
   "execution_count": 3,
   "metadata": {},
   "outputs": [
    {
     "name": "stdout",
     "output_type": "stream",
     "text": [
      "process train\n",
      "process test\n"
     ]
    }
   ],
   "source": [
    "train_dir = \"../input/aptos2019-blindness-detection/train_images\"\n",
    "test_dir = \"../input/aptos2019-blindness-detection/test_images\"\n",
    "train_dir_processed = \"../train_processed\"\n",
    "test_dir_processed = \"../test_processed\"\n",
    "val_dir_processed = \"../val_processed\"\n",
    "train_label_file = \"../input/aptos2019-blindness-detection/train.csv\"\n",
    "test_name_file = \"../input/aptos2019-blindness-detection/test.csv\"\n",
    "test_pred_file = \"../input/aptos2019-blindness-detection/test_pred.csv\"\n",
    "\n",
    "if not os.path.exists(train_dir_processed):\n",
    "    os.mkdir(train_dir_processed)\n",
    "if not os.path.exists(test_dir_processed):\n",
    "    os.mkdir(test_dir_processed)\n",
    "if not os.path.exists(val_dir_processed):\n",
    "    os.mkdir(val_dir_processed)\n",
    "\n",
    "train_labels = pd.read_csv(train_label_file)\n",
    "classes = train_labels['diagnosis'].unique()\n",
    "\n",
    "global N, C, L\n",
    "N = train_labels.shape[0]\n",
    "C = classes.size\n",
    "L = 224\n",
    "\n",
    "print(\"process train\")\n",
    "os.system('echo ' + 'process train')\n",
    "train_imgs = os.listdir(train_dir)\n",
    "for train_img in train_imgs:\n",
    "    img = cv2.imread(os.path.join(train_dir, train_img))\n",
    "    img = cut_black(img)\n",
    "    img = crop_center(img)\n",
    "    img = crop_diagonal(img)\n",
    "    img = adjust_light(img)\n",
    "    cv2.imwrite(os.path.join(train_dir_processed, train_img), img)\n",
    "\n",
    "print(\"process test\")\n",
    "os.system('echo ' + 'process test')\n",
    "test_imgs = os.listdir(test_dir)\n",
    "for test_img in test_imgs:\n",
    "    img = cv2.imread(os.path.join(test_dir, test_img))\n",
    "    img = cut_black(img)\n",
    "    img = crop_center(img)\n",
    "    img = crop_diagonal(img)\n",
    "    img = adjust_light(img)\n",
    "    cv2.imwrite(os.path.join(test_dir_processed, test_img), img)"
   ]
  },
  {
   "cell_type": "markdown",
   "metadata": {},
   "source": [
    "**2. Organize training & validation data for fit_generator**"
   ]
  },
  {
   "cell_type": "code",
   "execution_count": 4,
   "metadata": {},
   "outputs": [],
   "source": [
    "# Organize data for fit_generator\n",
    "\n",
    "\"\"\"\n",
    "Divide data in directory into sub_dirs based on labels from csv file\n",
    "\"\"\"\n",
    "def divide_data(train_dir, val_dir, train_labels, N, classes):\n",
    "#    C = classes.size\n",
    "    if not os.path.exists(val_dir):\n",
    "        os.mkdir(val_dir)\n",
    "    for c in classes:\n",
    "        os.mkdir(os.path.join(train_dir, str(c)))\n",
    "        os.mkdir(os.path.join(val_dir, str(c)))\n",
    "    \n",
    "    train_class = []\n",
    "    val_class = []\n",
    "    for i in range(N):\n",
    "        c = train_labels['diagnosis'][i]            # class\n",
    "        fn = train_labels['id_code'][i]+'.png'      # file name\n",
    "        if random.random() > 0.9:                   # move to val set\n",
    "            os.rename(os.path.join(train_dir, fn), os.path.join(val_dir, str(c), fn))\n",
    "            val_class.append(c)\n",
    "        else:\n",
    "            os.rename(os.path.join(train_dir, fn), os.path.join(train_dir, str(c), fn))\n",
    "            train_class.append(c)\n",
    "\n",
    "    class_weight = {c: 0 for c in classes}\n",
    "    max_N = 0\n",
    "    for c in classes:\n",
    "        N_train = len(os.listdir(os.path.join(train_dir, str(c))))\n",
    "        N_val = len(os.listdir(os.path.join(val_dir, str(c))))\n",
    "        class_weight[c] = N_train\n",
    "        if N_train > max_N:\n",
    "            max_N = N_train\n",
    "        print('Class ' + str(c) + ': N_train = ' + str(N_train) + ', N_val = ' + str(N_val))\n",
    "        \n",
    "    plt.figure(0)\n",
    "    plt.bar(class_weight.keys(), class_weight.values())\n",
    "    plt.title('val true distribution')\n",
    "        \n",
    "    for c in classes:\n",
    "        class_weight[c] = np.sqrt(max_N/class_weight[c])\n",
    "        \n",
    "    return np.array(train_class), np.array(val_class), class_weight\n",
    "\n",
    "\n",
    "\"\"\"\n",
    "Combine data in all subdirs of train & test dirs\n",
    "\"\"\"\n",
    "def combine_data(train_dir, val_dir, classes):\n",
    "    for c in classes:\n",
    "        all_train = os.listdir(os.path.join(train_dir, str(c)))\n",
    "        all_val = os.listdir(os.path.join(val_dir, str(c)))\n",
    "        for fn in all_train:\n",
    "            os.rename(os.path.join(train_dir, str(c), fn), os.path.join(train_dir, fn))\n",
    "        for fn in all_val:\n",
    "            os.rename(os.path.join(val_dir, str(c), fn), os.path.join(train_dir, fn))\n",
    "        os.rmdir(os.path.join(train_dir, str(c)))\n",
    "        os.rmdir(os.path.join(val_dir, str(c)))\n",
    "    os.rmdir(val_dir)"
   ]
  },
  {
   "cell_type": "code",
   "execution_count": 5,
   "metadata": {},
   "outputs": [
    {
     "name": "stdout",
     "output_type": "stream",
     "text": [
      "Class 0: N_train = 1608, N_val = 197\n",
      "Class 1: N_train = 328, N_val = 42\n",
      "Class 2: N_train = 911, N_val = 88\n",
      "Class 3: N_train = 172, N_val = 21\n",
      "Class 4: N_train = 265, N_val = 30\n",
      "{0: 1.0, 1: 2.214145213031486, 2: 1.328568140541339, 3: 3.057586827761777, 4: 2.4633157589521257}\n"
     ]
    },
    {
     "data": {
      "image/png": "[encoded data removed]",
      "text/plain": [
       "<Figure size 432x288 with 1 Axes>"
      ]
     },
     "metadata": {
      "needs_background": "light"
     },
     "output_type": "display_data"
    }
   ],
   "source": [
    "# Divide train & val data\n",
    "train_labels = pd.read_csv(train_label_file)\n",
    "classes = train_labels['diagnosis'].unique()\n",
    "classes = np.sort(classes)\n",
    "\n",
    "global N, C, L\n",
    "N = train_labels.shape[0]\n",
    "C = classes.size\n",
    "L = 224\n",
    "\n",
    "train_class, val_class, class_weight = divide_data(train_dir_processed, val_dir_processed, train_labels, N, classes)\n",
    "print(class_weight)"
   ]
  },
  {
   "cell_type": "markdown",
   "metadata": {},
   "source": [
    "**2.5 Optional re-divide**"
   ]
  },
  {
   "cell_type": "code",
   "execution_count": 6,
   "metadata": {},
   "outputs": [
    {
     "name": "stdout",
     "output_type": "stream",
     "text": [
      "Class 0: N_train = 1618, N_val = 187\n",
      "Class 1: N_train = 333, N_val = 37\n",
      "Class 2: N_train = 901, N_val = 98\n",
      "Class 3: N_train = 175, N_val = 18\n",
      "Class 4: N_train = 267, N_val = 28\n",
      "{0: 1.0, 1: 2.204281937243705, 2: 1.340068081826057, 3: 3.0406766164316594, 4: 2.461691510655419}\n"
     ]
    },
    {
     "data": {
      "image/png": "[encoded data removed]",
      "text/plain": [
       "<Figure size 432x288 with 1 Axes>"
      ]
     },
     "metadata": {
      "needs_background": "light"
     },
     "output_type": "display_data"
    }
   ],
   "source": [
    "combine_data(train_dir_processed, val_dir_processed, classes)\n",
    "train_class, val_class, class_weight = divide_data(train_dir_processed, val_dir_processed, train_labels, N, classes)\n",
    "print(class_weight)"
   ]
  },
  {
   "cell_type": "markdown",
   "metadata": {},
   "source": [
    "**3. Build model**"
   ]
  },
  {
   "cell_type": "code",
   "execution_count": 7,
   "metadata": {},
   "outputs": [
    {
     "name": "stderr",
     "output_type": "stream",
     "text": [
      "/opt/conda/lib/python3.6/site-packages/tensorflow/python/framework/dtypes.py:516: FutureWarning: Passing (type, 1) or '1type' as a synonym of type is deprecated; in a future version of numpy, it will be understood as (type, (1,)) / '(1,)type'.\n",
      "  _np_qint8 = np.dtype([(\"qint8\", np.int8, 1)])\n",
      "/opt/conda/lib/python3.6/site-packages/tensorflow/python/framework/dtypes.py:517: FutureWarning: Passing (type, 1) or '1type' as a synonym of type is deprecated; in a future version of numpy, it will be understood as (type, (1,)) / '(1,)type'.\n",
      "  _np_quint8 = np.dtype([(\"quint8\", np.uint8, 1)])\n",
      "/opt/conda/lib/python3.6/site-packages/tensorflow/python/framework/dtypes.py:518: FutureWarning: Passing (type, 1) or '1type' as a synonym of type is deprecated; in a future version of numpy, it will be understood as (type, (1,)) / '(1,)type'.\n",
      "  _np_qint16 = np.dtype([(\"qint16\", np.int16, 1)])\n",
      "/opt/conda/lib/python3.6/site-packages/tensorflow/python/framework/dtypes.py:519: FutureWarning: Passing (type, 1) or '1type' as a synonym of type is deprecated; in a future version of numpy, it will be understood as (type, (1,)) / '(1,)type'.\n",
      "  _np_quint16 = np.dtype([(\"quint16\", np.uint16, 1)])\n",
      "/opt/conda/lib/python3.6/site-packages/tensorflow/python/framework/dtypes.py:520: FutureWarning: Passing (type, 1) or '1type' as a synonym of type is deprecated; in a future version of numpy, it will be understood as (type, (1,)) / '(1,)type'.\n",
      "  _np_qint32 = np.dtype([(\"qint32\", np.int32, 1)])\n",
      "/opt/conda/lib/python3.6/site-packages/tensorflow/python/framework/dtypes.py:525: FutureWarning: Passing (type, 1) or '1type' as a synonym of type is deprecated; in a future version of numpy, it will be understood as (type, (1,)) / '(1,)type'.\n",
      "  np_resource = np.dtype([(\"resource\", np.ubyte, 1)])\n",
      "/opt/conda/lib/python3.6/site-packages/tensorboard/compat/tensorflow_stub/dtypes.py:541: FutureWarning: Passing (type, 1) or '1type' as a synonym of type is deprecated; in a future version of numpy, it will be understood as (type, (1,)) / '(1,)type'.\n",
      "  _np_qint8 = np.dtype([(\"qint8\", np.int8, 1)])\n",
      "/opt/conda/lib/python3.6/site-packages/tensorboard/compat/tensorflow_stub/dtypes.py:542: FutureWarning: Passing (type, 1) or '1type' as a synonym of type is deprecated; in a future version of numpy, it will be understood as (type, (1,)) / '(1,)type'.\n",
      "  _np_quint8 = np.dtype([(\"quint8\", np.uint8, 1)])\n",
      "/opt/conda/lib/python3.6/site-packages/tensorboard/compat/tensorflow_stub/dtypes.py:543: FutureWarning: Passing (type, 1) or '1type' as a synonym of type is deprecated; in a future version of numpy, it will be understood as (type, (1,)) / '(1,)type'.\n",
      "  _np_qint16 = np.dtype([(\"qint16\", np.int16, 1)])\n",
      "/opt/conda/lib/python3.6/site-packages/tensorboard/compat/tensorflow_stub/dtypes.py:544: FutureWarning: Passing (type, 1) or '1type' as a synonym of type is deprecated; in a future version of numpy, it will be understood as (type, (1,)) / '(1,)type'.\n",
      "  _np_quint16 = np.dtype([(\"quint16\", np.uint16, 1)])\n",
      "/opt/conda/lib/python3.6/site-packages/tensorboard/compat/tensorflow_stub/dtypes.py:545: FutureWarning: Passing (type, 1) or '1type' as a synonym of type is deprecated; in a future version of numpy, it will be understood as (type, (1,)) / '(1,)type'.\n",
      "  _np_qint32 = np.dtype([(\"qint32\", np.int32, 1)])\n",
      "/opt/conda/lib/python3.6/site-packages/tensorboard/compat/tensorflow_stub/dtypes.py:550: FutureWarning: Passing (type, 1) or '1type' as a synonym of type is deprecated; in a future version of numpy, it will be understood as (type, (1,)) / '(1,)type'.\n",
      "  np_resource = np.dtype([(\"resource\", np.ubyte, 1)])\n"
     ]
    }
   ],
   "source": [
    "import tensorflow as tf\n",
    "from tensorflow.keras.preprocessing.image import ImageDataGenerator\n",
    "import tensorflow.keras.backend as K\n",
    "\n",
    "\"\"\"\n",
    "Single conv layer in CNN model\n",
    "\"\"\"\n",
    "def conv_layer(x_in, filters, kernel_dim, drop_rate=0.0, batch_norm=True, max_pool=True):\n",
    "    x = tf.keras.layers.Conv2D(filters=filters, kernel_size=(kernel_dim,kernel_dim), strides=(1,1), padding='same',\n",
    "               kernel_initializer='he_normal')(x_in)\n",
    "    x = tf.keras.layers.Activation('relu')(x)\n",
    "    if drop_rate > 0.0:\n",
    "        x = tf.keras.layers.Dropout(drop_rate)(x)\n",
    "    if batch_norm:\n",
    "        x = tf.keras.layers.BatchNormalization()(x)\n",
    "    if max_pool:\n",
    "        x = tf.keras.layers.MaxPooling2D(pool_size=(2,2), strides=(2,2))(x)\n",
    "    return x\n",
    "    \n",
    "\n",
    "\"\"\"\n",
    "Single dense/FC layer in CNN model\n",
    "\"\"\"\n",
    "def dense_layer(x_in, units, activation='tanh', drop_rate=0.0):\n",
    "    x = tf.keras.layers.Dense(units, activation=activation)(x_in)\n",
    "    if drop_rate > 0.0:\n",
    "        x = tf.keras.layers.Dropout(rate = drop_rate)(x)\n",
    "    return x\n",
    "\n",
    "\"\"\"\n",
    "Custom loss function\n",
    "\"\"\"\n",
    "def custom_loss(y_true, y_pred):\n",
    "    class_true = K.cast(K.expand_dims(K.argmax(y_true, axis=-1), axis=-1), 'float32')   # y_true is one-hot\n",
    "    i = np.array([[0, 1, 2, 3, 4]]).astype('float32')\n",
    "    alpha = 30 * K.square(i - class_true) / K.sum(K.square(i - class_true), axis=0)\n",
    "    # cross entropy\n",
    "    loss1 = -K.sum(y_true * K.log(y_pred), axis=-1)\n",
    "    # additional term to penalize worse predictions\n",
    "    loss2 = -K.sum(alpha * (1-y_true) * K.log(1-y_pred), axis=-1)\n",
    "    \n",
    "    return loss1 + loss2\n",
    "\n",
    "\n",
    "\"\"\"\n",
    "Custom eval metric: quadratic weighted kappa\n",
    "\"\"\"\n",
    "def qwk(y_true, y_pred):\n",
    "    # compute confution matrix\n",
    "    y_true_label = K.argmax(y_true, axis=-1)    # one-hot to class number\n",
    "    y_pred_label = K.argmax(y_pred, axis=-1)\n",
    "    confusion = tf.math.confusion_matrix(y_true_label, y_pred_label, num_classes=5, dtype='float32')\n",
    "    \n",
    "    # compute quadratic weight\n",
    "    alpha = np.square([[i-j for i in range(5)] for j in range(5)]).astype('float32')\n",
    "\n",
    "    # compute observed and expected matrix\n",
    "    observed = confusion/tf.reduce_sum(confusion)  # count -> distribution\n",
    "    P_pred = tf.reduce_sum(confusion, axis=0)/tf.reduce_sum(confusion)\n",
    "    P_true = tf.reduce_sum(confusion, axis=1)/tf.reduce_sum(confusion)\n",
    "    expected = tf.tensordot(P_true, P_pred, axes=0)\n",
    "    \n",
    "    # compute kappa\n",
    "    kappa = 1 - tf.reduce_sum(tf.multiply(alpha, observed))/tf.reduce_sum(tf.multiply(alpha, expected))\n",
    "    return kappa\n",
    "\n",
    "\n",
    "\"\"\"\n",
    "Use transfer learning\n",
    "\"\"\"\n",
    "def transfer_model():\n",
    "    base_model = tf.keras.applications.VGG16(input_shape=(L,L,3),\n",
    "                                             weights='../input/vgg16/vgg16_weights_tf_dim_ordering_tf_kernels_notop.h5',\n",
    "                                             include_top=False)\n",
    "    \n",
    "    #base_model = tf.keras.applications.ResNet50(input_shape=(L,L,3),\n",
    "    #                                            weights='../input/resnet50/resnet50_weights_tf_dim_ordering_tf_kernels_notop.h5',\n",
    "    #                                            include_top=False)\n",
    "\n",
    "    for layer in base_model.layers:\n",
    "        layer.trainable = False\n",
    "    x = base_model.output\n",
    "    \n",
    "    # dense layers\n",
    "#    x = tf.keras.layers.Flatten()(x)\n",
    "#    x = tf.keras.layers.GlobalAveragePooling2D()(x)    # faster processing, omit spacial, vessel leakage can happen anywhere\n",
    "    x = tf.keras.layers.GlobalMaxPooling2D()(x)         # you only need to find certain features once, other areas can be blank\n",
    "#    x = dense_layer(x, units=512, activation='elu', drop_rate=0.25)\n",
    "    x = dense_layer(x, units=128, activation='tanh', drop_rate=0.4)\n",
    "    \n",
    "    # class pred\n",
    "    x_out = tf.keras.layers.Dense(5, activation='softmax')(x)\n",
    "    \n",
    "    # compile model\n",
    "    model = tf.keras.models.Model(inputs=base_model.input, outputs=x_out)\n",
    "#    sgd = tf.keras.optimizers.SGD(learning_rate=0.001)\n",
    "    adam = tf.keras.optimizers.Adam(lr=1e-3, beta_1=0.9, beta_2=0.999, epsilon=1e-8)\n",
    "    \n",
    "    model.compile(optimizer=adam, loss=custom_loss, metrics=['acc', qwk])\n",
    "    \n",
    "    return model"
   ]
  },
  {
   "cell_type": "markdown",
   "metadata": {},
   "source": [
    "**4. Train model**"
   ]
  },
  {
   "cell_type": "code",
   "execution_count": 8,
   "metadata": {},
   "outputs": [],
   "source": [
    "\"\"\"\n",
    "Generate (and augment) data for model\n",
    "\"\"\"\n",
    "def gen_data(train_dir, val_dir, batch_size):\n",
    "    print(\"Train set:\")\n",
    "    train_datagen = ImageDataGenerator(rescale=1.0/255.0,\n",
    "                                       #rotation_range=360,  # an eyeball at any angle is still the same\n",
    "                                       horizontal_flip=True,        # left/right eye symmetry\n",
    "                                       vertical_flip=True,          # left/right eye symmetry\n",
    "                                       samplewise_center=True,     # centering\n",
    "                                       samplewise_std_normalization=True) # standardizing\n",
    "                                       #brightness_range=(0.5, 1))   # there are dark imgs\n",
    "    train_generator = train_datagen.flow_from_directory(train_dir,\n",
    "                                                        batch_size=batch_size,\n",
    "                                                        class_mode='categorical',\n",
    "                                                        target_size=(L, L))\n",
    "    print(\"Val set:\")\n",
    "    val_datagen = ImageDataGenerator(rescale=1.0/255.0,\n",
    "                                     samplewise_center=True,\n",
    "                                     samplewise_std_normalization=True)\n",
    "    val_generator = val_datagen.flow_from_directory(val_dir,\n",
    "                                                    batch_size=batch_size,\n",
    "                                                    class_mode='categorical',\n",
    "                                                    target_size=(L, L))\n",
    "    \n",
    "    return train_generator, val_generator\n",
    "\n",
    "\"\"\"\n",
    "Display training history\n",
    "\"\"\"\n",
    "def show_history(history):\n",
    "    acc=history.history['acc']\n",
    "    val_acc=history.history['val_acc']\n",
    "    qwk=history.history['qwk']\n",
    "    val_qwk=history.history['val_qwk']\n",
    "    loss=history.history['loss']\n",
    "    val_loss=history.history['val_loss']\n",
    "    \n",
    "    epochs = list(range(1, len(acc)+1))\n",
    "    plt.figure(1)\n",
    "    plt.plot(epochs, loss, 'b', epochs, val_loss, 'r')\n",
    "    plt.title('loss')\n",
    "    plt.legend(('train', 'val'))\n",
    "    \n",
    "    plt.figure(2)\n",
    "    plt.plot(epochs, acc, 'b', epochs, val_acc, 'r')\n",
    "    plt.title('accuracy')\n",
    "    plt.legend(('train', 'val'))\n",
    "    \n",
    "    plt.figure(3)\n",
    "    plt.plot(epochs, qwk, 'b', epochs, val_qwk, 'r')\n",
    "    plt.title('weighted kappa')\n",
    "    plt.legend(('train', 'val'))\n",
    "\n",
    "    plt.figure(4)\n",
    "    plt.plot(loss, qwk)\n",
    "    plt.title('train: qwk vs loss')\n",
    "    \n",
    "    plt.figure(5)\n",
    "    plt.plot(val_loss, val_qwk)\n",
    "    plt.title('val: qwk vs loss')"
   ]
  },
  {
   "cell_type": "code",
   "execution_count": 9,
   "metadata": {},
   "outputs": [
    {
     "name": "stdout",
     "output_type": "stream",
     "text": [
      "Train set:\n",
      "Found 3294 images belonging to 5 classes.\n",
      "Val set:\n",
      "Found 368 images belonging to 5 classes.\n",
      "Model: \"model\"\n",
      "_________________________________________________________________\n",
      "Layer (type)                 Output Shape              Param #   \n",
      "=================================================================\n",
      "input_1 (InputLayer)         [(None, 224, 224, 3)]     0         \n",
      "_________________________________________________________________\n",
      "block1_conv1 (Conv2D)        (None, 224, 224, 64)      1792      \n",
      "_________________________________________________________________\n",
      "block1_conv2 (Conv2D)        (None, 224, 224, 64)      36928     \n",
      "_________________________________________________________________\n",
      "block1_pool (MaxPooling2D)   (None, 112, 112, 64)      0         \n",
      "_________________________________________________________________\n",
      "block2_conv1 (Conv2D)        (None, 112, 112, 128)     73856     \n",
      "_________________________________________________________________\n",
      "block2_conv2 (Conv2D)        (None, 112, 112, 128)     147584    \n",
      "_________________________________________________________________\n",
      "block2_pool (MaxPooling2D)   (None, 56, 56, 128)       0         \n",
      "_________________________________________________________________\n",
      "block3_conv1 (Conv2D)        (None, 56, 56, 256)       295168    \n",
      "_________________________________________________________________\n",
      "block3_conv2 (Conv2D)        (None, 56, 56, 256)       590080    \n",
      "_________________________________________________________________\n",
      "block3_conv3 (Conv2D)        (None, 56, 56, 256)       590080    \n",
      "_________________________________________________________________\n",
      "block3_pool (MaxPooling2D)   (None, 28, 28, 256)       0         \n",
      "_________________________________________________________________\n",
      "block4_conv1 (Conv2D)        (None, 28, 28, 512)       1180160   \n",
      "_________________________________________________________________\n",
      "block4_conv2 (Conv2D)        (None, 28, 28, 512)       2359808   \n",
      "_________________________________________________________________\n",
      "block4_conv3 (Conv2D)        (None, 28, 28, 512)       2359808   \n",
      "_________________________________________________________________\n",
      "block4_pool (MaxPooling2D)   (None, 14, 14, 512)       0         \n",
      "_________________________________________________________________\n",
      "block5_conv1 (Conv2D)        (None, 14, 14, 512)       2359808   \n",
      "_________________________________________________________________\n",
      "block5_conv2 (Conv2D)        (None, 14, 14, 512)       2359808   \n",
      "_________________________________________________________________\n",
      "block5_conv3 (Conv2D)        (None, 14, 14, 512)       2359808   \n",
      "_________________________________________________________________\n",
      "block5_pool (MaxPooling2D)   (None, 7, 7, 512)         0         \n",
      "_________________________________________________________________\n",
      "global_max_pooling2d (Global (None, 512)               0         \n",
      "_________________________________________________________________\n",
      "dense (Dense)                (None, 128)               65664     \n",
      "_________________________________________________________________\n",
      "dropout (Dropout)            (None, 128)               0         \n",
      "_________________________________________________________________\n",
      "dense_1 (Dense)              (None, 5)                 645       \n",
      "=================================================================\n",
      "Total params: 14,780,997\n",
      "Trainable params: 66,309\n",
      "Non-trainable params: 14,714,688\n",
      "_________________________________________________________________\n",
      "Epoch 1/50\n",
      "52/52 [==============================] - 414s 8s/step - loss: 2.4396 - acc: 0.4979 - qwk: 0.4368 - val_loss: 1.0450 - val_acc: 0.6821 - val_qwk: 0.6483\n",
      "Epoch 2/50\n",
      "52/52 [==============================] - 375s 7s/step - loss: 1.9013 - acc: 0.6263 - qwk: 0.6656 - val_loss: 0.9907 - val_acc: 0.6739 - val_qwk: 0.7276\n",
      "Epoch 3/50\n",
      "52/52 [==============================] - 375s 7s/step - loss: 1.6874 - acc: 0.6709 - qwk: 0.7184 - val_loss: 0.9155 - val_acc: 0.6793 - val_qwk: 0.7094\n",
      "Epoch 4/50\n",
      "52/52 [==============================] - 734s 14s/step - loss: 1.5926 - acc: 0.6947 - qwk: 0.7453 - val_loss: 0.9051 - val_acc: 0.6793 - val_qwk: 0.6919\n",
      "Epoch 5/50\n",
      "52/52 [==============================] - 688s 13s/step - loss: 1.4966 - acc: 0.7143 - qwk: 0.7745 - val_loss: 0.8470 - val_acc: 0.7228 - val_qwk: 0.7800\n",
      "Epoch 6/50\n",
      "52/52 [==============================] - 403s 8s/step - loss: 1.4686 - acc: 0.7110 - qwk: 0.7711 - val_loss: 0.8522 - val_acc: 0.7038 - val_qwk: 0.7498\n",
      "Epoch 7/50\n",
      "52/52 [==============================] - 387s 7s/step - loss: 1.4115 - acc: 0.7250 - qwk: 0.7875 - val_loss: 0.8490 - val_acc: 0.7147 - val_qwk: 0.7482\n",
      "Epoch 8/50\n",
      "52/52 [==============================] - 386s 7s/step - loss: 1.3674 - acc: 0.7397 - qwk: 0.7925 - val_loss: 0.8109 - val_acc: 0.7337 - val_qwk: 0.7668\n",
      "Epoch 9/50\n",
      "52/52 [==============================] - 383s 7s/step - loss: 1.3512 - acc: 0.7380 - qwk: 0.8004 - val_loss: 0.8096 - val_acc: 0.7500 - val_qwk: 0.8076\n",
      "Epoch 10/50\n",
      "52/52 [==============================] - 385s 7s/step - loss: 1.3008 - acc: 0.7536 - qwk: 0.8171 - val_loss: 0.8278 - val_acc: 0.7364 - val_qwk: 0.7667\n",
      "Epoch 11/50\n",
      "52/52 [==============================] - 385s 7s/step - loss: 1.2985 - acc: 0.7556 - qwk: 0.8107 - val_loss: 0.8662 - val_acc: 0.7147 - val_qwk: 0.7765\n",
      "Epoch 12/50\n",
      "51/52 [============================>.] - ETA: 6s - loss: 1.2718 - acc: 0.7567 - qwk: 0.8104 \n",
      "Epoch 00012: ReduceLROnPlateau reducing learning rate to 0.0005000000237487257.\n",
      "52/52 [==============================] - 385s 7s/step - loss: 1.2758 - acc: 0.7555 - qwk: 0.8105 - val_loss: 0.8340 - val_acc: 0.7283 - val_qwk: 0.7965\n",
      "Epoch 13/50\n",
      "52/52 [==============================] - 382s 7s/step - loss: 1.2453 - acc: 0.7620 - qwk: 0.8219 - val_loss: 0.7942 - val_acc: 0.7364 - val_qwk: 0.7916\n",
      "Epoch 14/50\n",
      "52/52 [==============================] - 387s 7s/step - loss: 1.2248 - acc: 0.7650 - qwk: 0.8213 - val_loss: 0.8309 - val_acc: 0.7147 - val_qwk: 0.7551\n",
      "Epoch 15/50\n",
      "52/52 [==============================] - 384s 7s/step - loss: 1.1955 - acc: 0.7757 - qwk: 0.8295 - val_loss: 0.7929 - val_acc: 0.7337 - val_qwk: 0.7999\n",
      "Epoch 16/50\n",
      "52/52 [==============================] - 383s 7s/step - loss: 1.1954 - acc: 0.7731 - qwk: 0.8335 - val_loss: 0.8030 - val_acc: 0.7364 - val_qwk: 0.7799\n",
      "Epoch 17/50\n",
      "52/52 [==============================] - 385s 7s/step - loss: 1.2055 - acc: 0.7770 - qwk: 0.8281 - val_loss: 0.8104 - val_acc: 0.7228 - val_qwk: 0.7807\n",
      "Epoch 18/50\n",
      "51/52 [============================>.] - ETA: 6s - loss: 1.1708 - acc: 0.7799 - qwk: 0.8361 \n",
      "Epoch 00018: ReduceLROnPlateau reducing learning rate to 0.0002500000118743628.\n",
      "52/52 [==============================] - 383s 7s/step - loss: 1.1643 - acc: 0.7814 - qwk: 0.8374 - val_loss: 0.8303 - val_acc: 0.7201 - val_qwk: 0.7847\n",
      "Epoch 19/50\n",
      "52/52 [==============================] - 384s 7s/step - loss: 1.1623 - acc: 0.7867 - qwk: 0.8363 - val_loss: 0.8094 - val_acc: 0.7446 - val_qwk: 0.7841\n",
      "Epoch 20/50\n",
      "52/52 [==============================] - 385s 7s/step - loss: 1.1530 - acc: 0.7866 - qwk: 0.8394 - val_loss: 0.7796 - val_acc: 0.7446 - val_qwk: 0.7945\n",
      "Epoch 21/50\n",
      "52/52 [==============================] - 385s 7s/step - loss: 1.1744 - acc: 0.7811 - qwk: 0.8374 - val_loss: 0.7931 - val_acc: 0.7201 - val_qwk: 0.7600\n",
      "Epoch 22/50\n",
      "52/52 [==============================] - 385s 7s/step - loss: 1.1526 - acc: 0.7805 - qwk: 0.8345 - val_loss: 0.8355 - val_acc: 0.7120 - val_qwk: 0.7512\n",
      "Epoch 23/50\n",
      "51/52 [============================>.] - ETA: 6s - loss: 1.1267 - acc: 0.7977 - qwk: 0.8470 \n",
      "Epoch 00023: ReduceLROnPlateau reducing learning rate to 0.0001250000059371814.\n",
      "52/52 [==============================] - 384s 7s/step - loss: 1.1300 - acc: 0.7969 - qwk: 0.8469 - val_loss: 0.7950 - val_acc: 0.7283 - val_qwk: 0.7817\n",
      "Epoch 24/50\n",
      "52/52 [==============================] - 383s 7s/step - loss: 1.1268 - acc: 0.7931 - qwk: 0.8437 - val_loss: 0.7929 - val_acc: 0.7364 - val_qwk: 0.7788\n",
      "Epoch 25/50\n",
      "52/52 [==============================] - 384s 7s/step - loss: 1.1264 - acc: 0.7913 - qwk: 0.8456 - val_loss: 0.7989 - val_acc: 0.7255 - val_qwk: 0.7670\n",
      "Epoch 26/50\n",
      "51/52 [============================>.] - ETA: 6s - loss: 1.1297 - acc: 0.7926 - qwk: 0.8426 \n",
      "Epoch 00026: ReduceLROnPlateau reducing learning rate to 6.25000029685907e-05.\n",
      "52/52 [==============================] - 383s 7s/step - loss: 1.1323 - acc: 0.7917 - qwk: 0.8420 - val_loss: 0.8143 - val_acc: 0.7228 - val_qwk: 0.7694\n",
      "Epoch 27/50\n",
      "52/52 [==============================] - 394s 8s/step - loss: 1.1316 - acc: 0.7928 - qwk: 0.8411 - val_loss: 0.7951 - val_acc: 0.7310 - val_qwk: 0.7721\n",
      "Epoch 28/50\n",
      "52/52 [==============================] - 388s 7s/step - loss: 1.1226 - acc: 0.7902 - qwk: 0.8444 - val_loss: 0.7934 - val_acc: 0.7337 - val_qwk: 0.7658\n",
      "Epoch 29/50\n",
      "51/52 [============================>.] - ETA: 6s - loss: 1.1198 - acc: 0.7975 - qwk: 0.8433 \n",
      "Epoch 00029: ReduceLROnPlateau reducing learning rate to 3.125000148429535e-05.\n",
      "52/52 [==============================] - 388s 7s/step - loss: 1.1194 - acc: 0.7978 - qwk: 0.8420 - val_loss: 0.7925 - val_acc: 0.7391 - val_qwk: 0.7642\n",
      "Epoch 30/50\n",
      "52/52 [==============================] - 385s 7s/step - loss: 1.1108 - acc: 0.7948 - qwk: 0.8494 - val_loss: 0.7837 - val_acc: 0.7337 - val_qwk: 0.7576\n",
      "Epoch 31/50\n",
      "52/52 [==============================] - 384s 7s/step - loss: 1.1050 - acc: 0.7940 - qwk: 0.8460 - val_loss: 0.7966 - val_acc: 0.7337 - val_qwk: 0.7742\n",
      "Epoch 32/50\n",
      "51/52 [============================>.] - ETA: 6s - loss: 1.0989 - acc: 0.7961 - qwk: 0.8468 \n",
      "Epoch 00032: ReduceLROnPlateau reducing learning rate to 1.5625000742147677e-05.\n",
      "52/52 [==============================] - 387s 7s/step - loss: 1.1020 - acc: 0.7952 - qwk: 0.8457 - val_loss: 0.7881 - val_acc: 0.7310 - val_qwk: 0.7668\n",
      "Epoch 33/50\n",
      "52/52 [==============================] - 388s 7s/step - loss: 1.1380 - acc: 0.7952 - qwk: 0.8386 - val_loss: 0.8005 - val_acc: 0.7337 - val_qwk: 0.7719\n",
      "Epoch 34/50\n",
      "52/52 [==============================] - 387s 7s/step - loss: 1.1012 - acc: 0.7971 - qwk: 0.8518 - val_loss: 0.8010 - val_acc: 0.7283 - val_qwk: 0.7674\n",
      "Epoch 35/50\n",
      "51/52 [============================>.] - ETA: 6s - loss: 1.1053 - acc: 0.7975 - qwk: 0.8466 \n",
      "Epoch 00035: ReduceLROnPlateau reducing learning rate to 1e-05.\n",
      "52/52 [==============================] - 386s 7s/step - loss: 1.1069 - acc: 0.7980 - qwk: 0.8474 - val_loss: 0.7941 - val_acc: 0.7337 - val_qwk: 0.7677\n",
      "Epoch 36/50\n",
      "52/52 [==============================] - 387s 7s/step - loss: 1.1091 - acc: 0.7927 - qwk: 0.8449 - val_loss: 0.7886 - val_acc: 0.7364 - val_qwk: 0.7664\n",
      "Epoch 37/50\n",
      "52/52 [==============================] - 384s 7s/step - loss: 1.1167 - acc: 0.7934 - qwk: 0.8433 - val_loss: 0.7902 - val_acc: 0.7337 - val_qwk: 0.7712\n",
      "Epoch 38/50\n",
      "52/52 [==============================] - 387s 7s/step - loss: 1.1095 - acc: 0.7920 - qwk: 0.8479 - val_loss: 0.7914 - val_acc: 0.7364 - val_qwk: 0.7717\n",
      "Epoch 39/50\n",
      "52/52 [==============================] - 385s 7s/step - loss: 1.1196 - acc: 0.7922 - qwk: 0.8426 - val_loss: 0.7932 - val_acc: 0.7364 - val_qwk: 0.7748\n",
      "Epoch 40/50\n",
      "52/52 [==============================] - 385s 7s/step - loss: 1.1297 - acc: 0.7910 - qwk: 0.8377 - val_loss: 0.7868 - val_acc: 0.7310 - val_qwk: 0.7712\n",
      "Epoch 41/50\n",
      "52/52 [==============================] - 386s 7s/step - loss: 1.1122 - acc: 0.7952 - qwk: 0.8460 - val_loss: 0.7890 - val_acc: 0.7364 - val_qwk: 0.7671\n",
      "Epoch 42/50\n",
      "52/52 [==============================] - 384s 7s/step - loss: 1.1087 - acc: 0.7927 - qwk: 0.8491 - val_loss: 0.8016 - val_acc: 0.7310 - val_qwk: 0.7682\n",
      "Epoch 43/50\n",
      "52/52 [==============================] - 387s 7s/step - loss: 1.1079 - acc: 0.7937 - qwk: 0.8485 - val_loss: 0.8001 - val_acc: 0.7283 - val_qwk: 0.7675\n",
      "Epoch 44/50\n",
      "52/52 [==============================] - 391s 8s/step - loss: 1.0858 - acc: 0.7952 - qwk: 0.8481 - val_loss: 0.7916 - val_acc: 0.7310 - val_qwk: 0.7671\n",
      "Epoch 45/50\n",
      "52/52 [==============================] - 397s 8s/step - loss: 1.0847 - acc: 0.8019 - qwk: 0.8528 - val_loss: 0.7930 - val_acc: 0.7337 - val_qwk: 0.7710\n",
      "Epoch 46/50\n",
      "52/52 [==============================] - 391s 8s/step - loss: 1.1098 - acc: 0.7904 - qwk: 0.8436 - val_loss: 0.7979 - val_acc: 0.7337 - val_qwk: 0.7736\n",
      "Epoch 47/50\n",
      "52/52 [==============================] - 390s 8s/step - loss: 1.1030 - acc: 0.7989 - qwk: 0.8537 - val_loss: 0.7860 - val_acc: 0.7364 - val_qwk: 0.7713\n",
      "Epoch 48/50\n",
      "52/52 [==============================] - 396s 8s/step - loss: 1.1097 - acc: 0.7961 - qwk: 0.8466 - val_loss: 0.7862 - val_acc: 0.7310 - val_qwk: 0.7680\n",
      "Epoch 49/50\n",
      "52/52 [==============================] - 392s 8s/step - loss: 1.1087 - acc: 0.7889 - qwk: 0.8425 - val_loss: 0.7948 - val_acc: 0.7364 - val_qwk: 0.7651\n",
      "Epoch 50/50\n",
      "52/52 [==============================] - 394s 8s/step - loss: 1.1126 - acc: 0.7964 - qwk: 0.8465 - val_loss: 0.7896 - val_acc: 0.7337 - val_qwk: 0.7704\n"
     ]
    },
    {
     "data": {
      "text/plain": [
       "Text(0.5, 1.0, 'val pred distribution')"
      ]
     },
     "execution_count": 9,
     "metadata": {},
     "output_type": "execute_result"
    },
    {
     "data": {
      "image/png": "[encoded data removed]",
      "text/plain": [
       "<Figure size 432x288 with 1 Axes>"
      ]
     },
     "metadata": {
      "needs_background": "light"
     },
     "output_type": "display_data"
    },
    {
     "data": {
      "image/png": "[encoded data removed]",
      "text/plain": [
       "<Figure size 432x288 with 1 Axes>"
      ]
     },
     "metadata": {
      "needs_background": "light"
     },
     "output_type": "display_data"
    },
    {
     "data": {
      "image/png": "[encoded data removed]",
      "text/plain": [
       "<Figure size 432x288 with 1 Axes>"
      ]
     },
     "metadata": {
      "needs_background": "light"
     },
     "output_type": "display_data"
    },
    {
     "data": {
      "image/png": "[encoded data removed]",
      "text/plain": [
       "<Figure size 432x288 with 1 Axes>"
      ]
     },
     "metadata": {
      "needs_background": "light"
     },
     "output_type": "display_data"
    },
    {
     "data": {
      "image/png": "[encoded data removed]",
      "text/plain": [
       "<Figure size 432x288 with 1 Axes>"
      ]
     },
     "metadata": {
      "needs_background": "light"
     },
     "output_type": "display_data"
    },
    {
     "data": {
      "image/png": "[encoded data removed]",
      "text/plain": [
       "<Figure size 432x288 with 1 Axes>"
      ]
     },
     "metadata": {
      "needs_background": "light"
     },
     "output_type": "display_data"
    }
   ],
   "source": [
    "train_gen, val_gen = gen_data(train_dir_processed, val_dir_processed, batch_size=128)\n",
    "\n",
    "model = transfer_model()\n",
    "model.summary()\n",
    "callbacks = [#tf.keras.callbacks.EarlyStopping(monitor='val_loss', patience=7),\n",
    "             tf.keras.callbacks.ReduceLROnPlateau(monitor='val_loss',  min_delta=0.0004,\n",
    "                                                  patience=3, factor=0.5, min_lr=1e-5,  mode='auto', verbose=1)]\n",
    "#             tf.keras.callbacks.ModelCheckpoint(filepath = 'weights-best.hdf5', \n",
    "#                                                monitor='val_loss', save_best_only=True)]\n",
    "\n",
    "os.system('echo ' + 'training')\n",
    "history = model.fit_generator(train_gen,\n",
    "                              validation_data = val_gen,\n",
    "                              steps_per_epoch=math.ceil(train_gen.samples*2/train_gen.batch_size),\n",
    "                              class_weight=class_weight,\n",
    "                              epochs = 50,    # takes 8:47 to run 65 epochs. any more the kernel will fail\n",
    "                              validation_steps=math.ceil(val_gen.samples/val_gen.batch_size),\n",
    "                              callbacks = callbacks,\n",
    "                              use_multiprocessing=False,\n",
    "                              verbose = 1)\n",
    "\n",
    "show_history(history)\n",
    "\n",
    "val_pred = model.predict_generator(val_gen, workers=1)    # workers!=1 will mess up the order\n",
    "val_pred_class = np.argmax(val_pred, axis=1)\n",
    "plt.figure(6)\n",
    "plt.hist(val_pred_class, bins=5)\n",
    "plt.title('val pred distribution')"
   ]
  },
  {
   "cell_type": "markdown",
   "metadata": {},
   "source": [
    "**5. Generate test set results**"
   ]
  },
  {
   "cell_type": "code",
   "execution_count": 10,
   "metadata": {},
   "outputs": [
    {
     "name": "stdout",
     "output_type": "stream",
     "text": [
      "Found 1928 validated image filenames.\n"
     ]
    }
   ],
   "source": [
    "output_filename = 'submission.csv'\n",
    "\n",
    "# copied from a kernel\n",
    "sam_sub_df = pd.read_csv('../input/aptos2019-blindness-detection/sample_submission.csv')\n",
    "sam_sub_df[\"id_code\"]=sam_sub_df[\"id_code\"].apply(lambda x:x+\".png\")\n",
    "\n",
    "test_datagen = ImageDataGenerator(rescale=1.0/255.0,\n",
    "                                  samplewise_center=True,\n",
    "                                  samplewise_std_normalization=True)\n",
    "test_gen = test_datagen.flow_from_dataframe(  \n",
    "        dataframe=sam_sub_df,\n",
    "        directory = test_dir_processed,    \n",
    "        x_col=\"id_code\",\n",
    "        target_size = (L, L),\n",
    "        batch_size = 1,\n",
    "        shuffle = False,\n",
    "        class_mode = None\n",
    "        )\n",
    "\n",
    "test_gen.reset()\n",
    "predict = model.predict_generator(test_gen,\n",
    "                                  steps = len(test_gen.filenames),\n",
    "                                  use_multiprocessing=False)\n",
    "\n",
    "filenames = test_gen.filenames\n",
    "results = pd.DataFrame({\"id_code\":filenames,\n",
    "                        \"diagnosis\":np.argmax(predict,axis=1)})\n",
    "results['id_code'] = results['id_code'].map(lambda x: str(x)[:-4])\n",
    "results.to_csv(output_filename, index=False)"
   ]
  },
  {
   "cell_type": "code",
   "execution_count": 11,
   "metadata": {},
   "outputs": [
    {
     "data": {
      "text/plain": [
       "Text(0.5, 1.0, 'test pred distribution')"
      ]
     },
     "execution_count": 11,
     "metadata": {},
     "output_type": "execute_result"
    },
    {
     "data": {
      "image/png": "[encoded data removed]",
      "text/plain": [
       "<Figure size 432x288 with 1 Axes>"
      ]
     },
     "metadata": {
      "needs_background": "light"
     },
     "output_type": "display_data"
    }
   ],
   "source": [
    "test_pred_class = pd.read_csv(output_filename)\n",
    "plt.hist(test_pred_class['diagnosis'], bins=5)\n",
    "plt.title('test pred distribution')"
   ]
  }
 ],
 "metadata": {
  "kernelspec": {
   "display_name": "Python 3",
   "language": "python",
   "name": "python3"
  },
  "language_info": {
   "codemirror_mode": {
    "name": "ipython",
    "version": 3
   },
   "file_extension": ".py",
   "mimetype": "text/x-python",
   "name": "python",
   "nbconvert_exporter": "python",
   "pygments_lexer": "ipython3",
   "version": "3.6.6"
  }
 },
 "nbformat": 4,
 "nbformat_minor": 1
}
